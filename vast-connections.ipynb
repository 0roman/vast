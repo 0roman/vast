{
 "cells": [
  {
   "cell_type": "code",
   "execution_count": null,
   "metadata": {},
   "outputs": [],
   "source": [
    "import logging\n",
    "logger = logging.getLogger()\n",
    "logger.setLevel(logging.INFO)\n",
    "logging.debug(\"Logger active\")"
   ]
  },
  {
   "cell_type": "code",
   "execution_count": null,
   "metadata": {},
   "outputs": [],
   "source": [
    "import pyvast"
   ]
  },
  {
   "cell_type": "code",
   "execution_count": null,
   "metadata": {},
   "outputs": [],
   "source": [
    "vast = pyvast.VAST(app=\"build/release/bin/vast\")"
   ]
  },
  {
   "cell_type": "code",
   "execution_count": null,
   "metadata": {},
   "outputs": [],
   "source": [
    "await vast.try_connect()"
   ]
  },
  {
   "cell_type": "code",
   "execution_count": null,
   "metadata": {},
   "outputs": [],
   "source": [
    "# Select all events of type zeek.conn\n",
    "data = await vast.query(\"#type ~ /zeek.conn/\")"
   ]
  },
  {
   "cell_type": "code",
   "execution_count": null,
   "metadata": {},
   "outputs": [],
   "source": [
    "data.shape"
   ]
  },
  {
   "cell_type": "code",
   "execution_count": null,
   "metadata": {},
   "outputs": [],
   "source": [
    "data.schema"
   ]
  },
  {
   "cell_type": "code",
   "execution_count": null,
   "metadata": {},
   "outputs": [],
   "source": [
    "import pandas\n",
    "df = data.to_pandas()"
   ]
  },
  {
   "cell_type": "code",
   "execution_count": null,
   "metadata": {},
   "outputs": [],
   "source": [
    "df.head()"
   ]
  },
  {
   "cell_type": "code",
   "execution_count": null,
   "metadata": {},
   "outputs": [],
   "source": [
    "df.describe()"
   ]
  },
  {
   "cell_type": "code",
   "execution_count": null,
   "metadata": {},
   "outputs": [],
   "source": [
    "import ipaddress\n",
    "\n",
    "# Accepts a 128-bit buffer holding an IPv6 address and\n",
    "# returns an IPv4 or IPv6 address.\n",
    "def unpack_ip(buffer):\n",
    "    num = int.from_bytes(buffer, byteorder='big')\n",
    "    # convert IPv4 mapped addresses back to regular IPv4\n",
    "    # https://tools.ietf.org/html/rfc4291#section-2.5.5.2\n",
    "    if (num >> 32) == 65535:\n",
    "        num = num - (65535 << 32)\n",
    "    return ipaddress.ip_address(num)"
   ]
  },
  {
   "cell_type": "code",
   "execution_count": null,
   "metadata": {},
   "outputs": [],
   "source": [
    "import networkx as nx\n",
    "import matplotlib.pyplot as plt\n",
    "plt.rcParams['figure.figsize'] = [15, 15]"
   ]
  },
  {
   "cell_type": "code",
   "execution_count": null,
   "metadata": {},
   "outputs": [],
   "source": [
    "source = 'id.orig_h'\n",
    "dest = 'id.resp_h'\n",
    "edgelist = df.groupby([source, dest]).size().to_frame(name='weight').reset_index()\n",
    "edgelist[source] = edgelist[source].apply(unpack_ip)\n",
    "edgelist[dest] = edgelist[dest].apply(unpack_ip)"
   ]
  },
  {
   "cell_type": "code",
   "execution_count": null,
   "metadata": {},
   "outputs": [],
   "source": [
    "def draw(edgelist, with_labels=False):\n",
    "    G = nx.from_pandas_edgelist(edgelist, source=source, target=dest, edge_attr='weight')\n",
    "    pos = nx.kamada_kawai_layout(G, weight=None)\n",
    "    edges, weights = zip(*nx.get_edge_attributes(G,'weight').items())\n",
    "    weights = [x / 100 for x in weights]\n",
    "    nx.draw_networkx_nodes(G, pos=pos)\n",
    "    nx.draw_networkx_edges(G, pos=pos, edgelist=edges, width=weights)\n",
    "    if with_labels:\n",
    "        nx.draw_networkx_labels(G, pos=pos)"
   ]
  },
  {
   "cell_type": "code",
   "execution_count": null,
   "metadata": {},
   "outputs": [],
   "source": [
    "draw(edgelist)"
   ]
  },
  {
   "cell_type": "code",
   "execution_count": null,
   "metadata": {},
   "outputs": [],
   "source": [
    "pruned = edgelist[edgelist['weight'] > 8]\n",
    "draw(pruned, with_labels=True)"
   ]
  },
  {
   "cell_type": "code",
   "execution_count": null,
   "metadata": {
    "scrolled": true
   },
   "outputs": [],
   "source": [
    "pruned = edgelist[edgelist['weight'] > 16]\n",
    "draw(pruned, with_labels=True)"
   ]
  },
  {
   "cell_type": "code",
   "execution_count": null,
   "metadata": {},
   "outputs": [],
   "source": [
    "pruned = edgelist[edgelist['weight'] > 24]\n",
    "draw(pruned, with_labels=True)"
   ]
  },
  {
   "cell_type": "code",
   "execution_count": null,
   "metadata": {},
   "outputs": [],
   "source": []
  }
 ],
 "metadata": {
  "kernelspec": {
   "display_name": "Python 3",
   "language": "python",
   "name": "python3"
  },
  "language_info": {
   "codemirror_mode": {
    "name": "ipython",
    "version": 3
   },
   "file_extension": ".py",
   "mimetype": "text/x-python",
   "name": "python",
   "nbconvert_exporter": "python",
   "pygments_lexer": "ipython3",
   "version": "3.7.6"
  }
 },
 "nbformat": 4,
 "nbformat_minor": 2
}
