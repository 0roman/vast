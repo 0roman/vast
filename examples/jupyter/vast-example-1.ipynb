{
 "cells": [
  {
   "cell_type": "code",
   "execution_count": 1,
   "metadata": {},
   "outputs": [
    {
     "name": "stderr",
     "output_type": "stream",
     "text": [
      "DEBUG:root:Logger active\n"
     ]
    }
   ],
   "source": [
    "import logging\n",
    "logger = logging.getLogger()\n",
    "logger.setLevel(logging.DEBUG)\n",
    "logging.debug(\"Logger active\")"
   ]
  },
  {
   "cell_type": "code",
   "execution_count": 2,
   "metadata": {},
   "outputs": [],
   "source": [
    "from pyvast import VAST\n",
    "import pyarrow"
   ]
  },
  {
   "cell_type": "code",
   "execution_count": 3,
   "metadata": {},
   "outputs": [
    {
     "name": "stderr",
     "output_type": "stream",
     "text": [
      "DEBUG:vast:VAST client configured to use endpoint localhost:42000\n"
     ]
    }
   ],
   "source": [
    "vast = VAST()"
   ]
  },
  {
   "cell_type": "code",
   "execution_count": 4,
   "metadata": {},
   "outputs": [
    {
     "data": {
      "text/plain": [
       "True"
      ]
     },
     "execution_count": 4,
     "metadata": {},
     "output_type": "execute_result"
    }
   ],
   "source": [
    "await vast.test_connection()"
   ]
  },
  {
   "cell_type": "code",
   "execution_count": 6,
   "metadata": {},
   "outputs": [
    {
     "name": "stderr",
     "output_type": "stream",
     "text": [
      "DEBUG:vast:Executing call stack: ['export', 'arrow', '#type == \"zeek.conn\"']\n"
     ]
    }
   ],
   "source": [
    "proc = await vast.export().arrow(\"#type == \\\"zeek.conn\\\"\").exec()\n",
    "stdout, stderr = await proc.communicate()\n",
    "reader = pyarrow.ipc.open_stream(stdout)\n",
    "data = reader.read_all()"
   ]
  },
  {
   "cell_type": "code",
   "execution_count": 7,
   "metadata": {},
   "outputs": [
    {
     "data": {
      "text/plain": [
       "(8505, 22)"
      ]
     },
     "execution_count": 7,
     "metadata": {},
     "output_type": "execute_result"
    }
   ],
   "source": [
    "data.shape"
   ]
  },
  {
   "cell_type": "code",
   "execution_count": 8,
   "metadata": {},
   "outputs": [],
   "source": [
    "import pandas\n",
    "df = data.to_pandas()"
   ]
  },
  {
   "cell_type": "code",
   "execution_count": 9,
   "metadata": {},
   "outputs": [
    {
     "data": {
      "text/html": [
       "<div>\n",
       "<style scoped>\n",
       "    .dataframe tbody tr th:only-of-type {\n",
       "        vertical-align: middle;\n",
       "    }\n",
       "\n",
       "    .dataframe tbody tr th {\n",
       "        vertical-align: top;\n",
       "    }\n",
       "\n",
       "    .dataframe thead th {\n",
       "        text-align: right;\n",
       "    }\n",
       "</style>\n",
       "<table border=\"1\" class=\"dataframe\">\n",
       "  <thead>\n",
       "    <tr style=\"text-align: right;\">\n",
       "      <th></th>\n",
       "      <th>duration</th>\n",
       "      <th>orig_bytes</th>\n",
       "      <th>resp_bytes</th>\n",
       "      <th>missed_bytes</th>\n",
       "      <th>orig_pkts</th>\n",
       "      <th>orig_ip_bytes</th>\n",
       "      <th>resp_pkts</th>\n",
       "      <th>resp_ip_bytes</th>\n",
       "    </tr>\n",
       "  </thead>\n",
       "  <tbody>\n",
       "    <tr>\n",
       "      <th>count</th>\n",
       "      <td>8.015000e+03</td>\n",
       "      <td>8015.000000</td>\n",
       "      <td>8.015000e+03</td>\n",
       "      <td>8.505000e+03</td>\n",
       "      <td>8505.000000</td>\n",
       "      <td>8.505000e+03</td>\n",
       "      <td>8505.000000</td>\n",
       "      <td>8.505000e+03</td>\n",
       "    </tr>\n",
       "    <tr>\n",
       "      <th>mean</th>\n",
       "      <td>2.252200e+10</td>\n",
       "      <td>690.684966</td>\n",
       "      <td>7.096001e+04</td>\n",
       "      <td>1.085233e+03</td>\n",
       "      <td>29.415168</td>\n",
       "      <td>1.910043e+03</td>\n",
       "      <td>73.109347</td>\n",
       "      <td>9.950322e+04</td>\n",
       "    </tr>\n",
       "    <tr>\n",
       "      <th>std</th>\n",
       "      <td>7.624190e+11</td>\n",
       "      <td>5123.660370</td>\n",
       "      <td>2.111800e+06</td>\n",
       "      <td>3.424093e+04</td>\n",
       "      <td>1116.924997</td>\n",
       "      <td>4.636414e+04</td>\n",
       "      <td>2399.197504</td>\n",
       "      <td>3.376332e+06</td>\n",
       "    </tr>\n",
       "    <tr>\n",
       "      <th>min</th>\n",
       "      <td>1.000000e+03</td>\n",
       "      <td>0.000000</td>\n",
       "      <td>0.000000e+00</td>\n",
       "      <td>0.000000e+00</td>\n",
       "      <td>0.000000</td>\n",
       "      <td>0.000000e+00</td>\n",
       "      <td>0.000000</td>\n",
       "      <td>0.000000e+00</td>\n",
       "    </tr>\n",
       "    <tr>\n",
       "      <th>25%</th>\n",
       "      <td>2.891650e+07</td>\n",
       "      <td>35.000000</td>\n",
       "      <td>9.900000e+01</td>\n",
       "      <td>0.000000e+00</td>\n",
       "      <td>1.000000</td>\n",
       "      <td>6.400000e+01</td>\n",
       "      <td>1.000000</td>\n",
       "      <td>8.800000e+01</td>\n",
       "    </tr>\n",
       "    <tr>\n",
       "      <th>50%</th>\n",
       "      <td>2.028740e+08</td>\n",
       "      <td>154.000000</td>\n",
       "      <td>2.290000e+02</td>\n",
       "      <td>0.000000e+00</td>\n",
       "      <td>2.000000</td>\n",
       "      <td>2.290000e+02</td>\n",
       "      <td>1.000000</td>\n",
       "      <td>2.550000e+02</td>\n",
       "    </tr>\n",
       "    <tr>\n",
       "      <th>75%</th>\n",
       "      <td>2.248884e+09</td>\n",
       "      <td>573.500000</td>\n",
       "      <td>4.560000e+02</td>\n",
       "      <td>0.000000e+00</td>\n",
       "      <td>6.000000</td>\n",
       "      <td>9.590000e+02</td>\n",
       "      <td>5.000000</td>\n",
       "      <td>6.560000e+02</td>\n",
       "    </tr>\n",
       "    <tr>\n",
       "      <th>max</th>\n",
       "      <td>6.438000e+13</td>\n",
       "      <td>298738.000000</td>\n",
       "      <td>1.574847e+08</td>\n",
       "      <td>2.493440e+06</td>\n",
       "      <td>100548.000000</td>\n",
       "      <td>4.140066e+06</td>\n",
       "      <td>203934.000000</td>\n",
       "      <td>2.865861e+08</td>\n",
       "    </tr>\n",
       "  </tbody>\n",
       "</table>\n",
       "</div>"
      ],
      "text/plain": [
       "           duration     orig_bytes    resp_bytes  missed_bytes      orig_pkts  \\\n",
       "count  8.015000e+03    8015.000000  8.015000e+03  8.505000e+03    8505.000000   \n",
       "mean   2.252200e+10     690.684966  7.096001e+04  1.085233e+03      29.415168   \n",
       "std    7.624190e+11    5123.660370  2.111800e+06  3.424093e+04    1116.924997   \n",
       "min    1.000000e+03       0.000000  0.000000e+00  0.000000e+00       0.000000   \n",
       "25%    2.891650e+07      35.000000  9.900000e+01  0.000000e+00       1.000000   \n",
       "50%    2.028740e+08     154.000000  2.290000e+02  0.000000e+00       2.000000   \n",
       "75%    2.248884e+09     573.500000  4.560000e+02  0.000000e+00       6.000000   \n",
       "max    6.438000e+13  298738.000000  1.574847e+08  2.493440e+06  100548.000000   \n",
       "\n",
       "       orig_ip_bytes      resp_pkts  resp_ip_bytes  \n",
       "count   8.505000e+03    8505.000000   8.505000e+03  \n",
       "mean    1.910043e+03      73.109347   9.950322e+04  \n",
       "std     4.636414e+04    2399.197504   3.376332e+06  \n",
       "min     0.000000e+00       0.000000   0.000000e+00  \n",
       "25%     6.400000e+01       1.000000   8.800000e+01  \n",
       "50%     2.290000e+02       1.000000   2.550000e+02  \n",
       "75%     9.590000e+02       5.000000   6.560000e+02  \n",
       "max     4.140066e+06  203934.000000   2.865861e+08  "
      ]
     },
     "execution_count": 9,
     "metadata": {},
     "output_type": "execute_result"
    }
   ],
   "source": [
    "df.describe()"
   ]
  },
  {
   "cell_type": "code",
   "execution_count": null,
   "metadata": {},
   "outputs": [],
   "source": []
  },
  {
   "cell_type": "code",
   "execution_count": null,
   "metadata": {},
   "outputs": [],
   "source": []
  }
 ],
 "metadata": {
  "kernelspec": {
   "display_name": "Python 3",
   "language": "python",
   "name": "python3"
  },
  "language_info": {
   "codemirror_mode": {
    "name": "ipython",
    "version": 3
   },
   "file_extension": ".py",
   "mimetype": "text/x-python",
   "name": "python",
   "nbconvert_exporter": "python",
   "pygments_lexer": "ipython3",
   "version": "3.8.2"
  }
 },
 "nbformat": 4,
 "nbformat_minor": 2
}
